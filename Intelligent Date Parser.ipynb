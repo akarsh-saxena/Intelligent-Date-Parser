{
  "nbformat": 4,
  "nbformat_minor": 0,
  "metadata": {
    "colab": {
      "name": "Intelligent Date Parser.ipynb",
      "provenance": []
    },
    "kernelspec": {
      "name": "python3",
      "display_name": "Python 3"
    },
    "widgets": {
      "application/vnd.jupyter.widget-state+json": {
        "20ee14361164432ea21a79839905fc98": {
          "model_module": "@jupyter-widgets/controls",
          "model_name": "HBoxModel",
          "state": {
            "_view_name": "HBoxView",
            "_dom_classes": [],
            "_model_name": "HBoxModel",
            "_view_module": "@jupyter-widgets/controls",
            "_model_module_version": "1.5.0",
            "_view_count": null,
            "_view_module_version": "1.5.0",
            "box_style": "",
            "layout": "IPY_MODEL_70f7687cefe347e3b7083ff1012105e7",
            "_model_module": "@jupyter-widgets/controls",
            "children": [
              "IPY_MODEL_c76713bb6c8749378fd914f9b96a15ca",
              "IPY_MODEL_d84df44a3a3b409c95f0dbe2c7d098d7"
            ]
          }
        },
        "70f7687cefe347e3b7083ff1012105e7": {
          "model_module": "@jupyter-widgets/base",
          "model_name": "LayoutModel",
          "state": {
            "_view_name": "LayoutView",
            "grid_template_rows": null,
            "right": null,
            "justify_content": null,
            "_view_module": "@jupyter-widgets/base",
            "overflow": null,
            "_model_module_version": "1.2.0",
            "_view_count": null,
            "flex_flow": null,
            "width": null,
            "min_width": null,
            "border": null,
            "align_items": null,
            "bottom": null,
            "_model_module": "@jupyter-widgets/base",
            "top": null,
            "grid_column": null,
            "overflow_y": null,
            "overflow_x": null,
            "grid_auto_flow": null,
            "grid_area": null,
            "grid_template_columns": null,
            "flex": null,
            "_model_name": "LayoutModel",
            "justify_items": null,
            "grid_row": null,
            "max_height": null,
            "align_content": null,
            "visibility": null,
            "align_self": null,
            "height": null,
            "min_height": null,
            "padding": null,
            "grid_auto_rows": null,
            "grid_gap": null,
            "max_width": null,
            "order": null,
            "_view_module_version": "1.2.0",
            "grid_template_areas": null,
            "object_position": null,
            "object_fit": null,
            "grid_auto_columns": null,
            "margin": null,
            "display": null,
            "left": null
          }
        },
        "c76713bb6c8749378fd914f9b96a15ca": {
          "model_module": "@jupyter-widgets/controls",
          "model_name": "FloatProgressModel",
          "state": {
            "_view_name": "ProgressView",
            "style": "IPY_MODEL_219696233d454b66becbb353f4a7c625",
            "_dom_classes": [],
            "description": "100%",
            "_model_name": "FloatProgressModel",
            "bar_style": "success",
            "max": 500000,
            "_view_module": "@jupyter-widgets/controls",
            "_model_module_version": "1.5.0",
            "value": 500000,
            "_view_count": null,
            "_view_module_version": "1.5.0",
            "orientation": "horizontal",
            "min": 0,
            "description_tooltip": null,
            "_model_module": "@jupyter-widgets/controls",
            "layout": "IPY_MODEL_20d62636049348cba87c0d7bae4d65ff"
          }
        },
        "d84df44a3a3b409c95f0dbe2c7d098d7": {
          "model_module": "@jupyter-widgets/controls",
          "model_name": "HTMLModel",
          "state": {
            "_view_name": "HTMLView",
            "style": "IPY_MODEL_072737a5bb094404a022da6d46a00e4e",
            "_dom_classes": [],
            "description": "",
            "_model_name": "HTMLModel",
            "placeholder": "​",
            "_view_module": "@jupyter-widgets/controls",
            "_model_module_version": "1.5.0",
            "value": " 500000/500000 [00:27&lt;00:00, 18082.34it/s]",
            "_view_count": null,
            "_view_module_version": "1.5.0",
            "description_tooltip": null,
            "_model_module": "@jupyter-widgets/controls",
            "layout": "IPY_MODEL_816ec03379644fcb9c99b132ab17df37"
          }
        },
        "219696233d454b66becbb353f4a7c625": {
          "model_module": "@jupyter-widgets/controls",
          "model_name": "ProgressStyleModel",
          "state": {
            "_view_name": "StyleView",
            "_model_name": "ProgressStyleModel",
            "description_width": "initial",
            "_view_module": "@jupyter-widgets/base",
            "_model_module_version": "1.5.0",
            "_view_count": null,
            "_view_module_version": "1.2.0",
            "bar_color": null,
            "_model_module": "@jupyter-widgets/controls"
          }
        },
        "20d62636049348cba87c0d7bae4d65ff": {
          "model_module": "@jupyter-widgets/base",
          "model_name": "LayoutModel",
          "state": {
            "_view_name": "LayoutView",
            "grid_template_rows": null,
            "right": null,
            "justify_content": null,
            "_view_module": "@jupyter-widgets/base",
            "overflow": null,
            "_model_module_version": "1.2.0",
            "_view_count": null,
            "flex_flow": null,
            "width": null,
            "min_width": null,
            "border": null,
            "align_items": null,
            "bottom": null,
            "_model_module": "@jupyter-widgets/base",
            "top": null,
            "grid_column": null,
            "overflow_y": null,
            "overflow_x": null,
            "grid_auto_flow": null,
            "grid_area": null,
            "grid_template_columns": null,
            "flex": null,
            "_model_name": "LayoutModel",
            "justify_items": null,
            "grid_row": null,
            "max_height": null,
            "align_content": null,
            "visibility": null,
            "align_self": null,
            "height": null,
            "min_height": null,
            "padding": null,
            "grid_auto_rows": null,
            "grid_gap": null,
            "max_width": null,
            "order": null,
            "_view_module_version": "1.2.0",
            "grid_template_areas": null,
            "object_position": null,
            "object_fit": null,
            "grid_auto_columns": null,
            "margin": null,
            "display": null,
            "left": null
          }
        },
        "072737a5bb094404a022da6d46a00e4e": {
          "model_module": "@jupyter-widgets/controls",
          "model_name": "DescriptionStyleModel",
          "state": {
            "_view_name": "StyleView",
            "_model_name": "DescriptionStyleModel",
            "description_width": "",
            "_view_module": "@jupyter-widgets/base",
            "_model_module_version": "1.5.0",
            "_view_count": null,
            "_view_module_version": "1.2.0",
            "_model_module": "@jupyter-widgets/controls"
          }
        },
        "816ec03379644fcb9c99b132ab17df37": {
          "model_module": "@jupyter-widgets/base",
          "model_name": "LayoutModel",
          "state": {
            "_view_name": "LayoutView",
            "grid_template_rows": null,
            "right": null,
            "justify_content": null,
            "_view_module": "@jupyter-widgets/base",
            "overflow": null,
            "_model_module_version": "1.2.0",
            "_view_count": null,
            "flex_flow": null,
            "width": null,
            "min_width": null,
            "border": null,
            "align_items": null,
            "bottom": null,
            "_model_module": "@jupyter-widgets/base",
            "top": null,
            "grid_column": null,
            "overflow_y": null,
            "overflow_x": null,
            "grid_auto_flow": null,
            "grid_area": null,
            "grid_template_columns": null,
            "flex": null,
            "_model_name": "LayoutModel",
            "justify_items": null,
            "grid_row": null,
            "max_height": null,
            "align_content": null,
            "visibility": null,
            "align_self": null,
            "height": null,
            "min_height": null,
            "padding": null,
            "grid_auto_rows": null,
            "grid_gap": null,
            "max_width": null,
            "order": null,
            "_view_module_version": "1.2.0",
            "grid_template_areas": null,
            "object_position": null,
            "object_fit": null,
            "grid_auto_columns": null,
            "margin": null,
            "display": null,
            "left": null
          }
        }
      }
    }
  },
  "cells": [
    {
      "cell_type": "code",
      "metadata": {
        "id": "9Lt59L5kHt0S"
      },
      "source": [
        "import re\n",
        "import random\n",
        "import numpy as np\n",
        "from faker import Faker\n",
        "from tqdm.auto import tqdm\n",
        "from babel.dates import format_date\n",
        "from sklearn.model_selection import train_test_split\n",
        "\n",
        "\n",
        "from tensorflow.keras.utils import to_categorical\n",
        "from tensorflow.keras.preprocessing.text import Tokenizer\n",
        "from tensorflow.keras.preprocessing.sequence import pad_sequences"
      ],
      "execution_count": 2,
      "outputs": []
    },
    {
      "cell_type": "code",
      "metadata": {
        "id": "MFQflYjzJi3n"
      },
      "source": [
        "fake = Faker()"
      ],
      "execution_count": 3,
      "outputs": []
    },
    {
      "cell_type": "code",
      "metadata": {
        "id": "0CAuOLNjJlSV"
      },
      "source": [
        "DATE_FORMATS = ['short',\n",
        "                'medium',\n",
        "                'medium',\n",
        "                'medium',\n",
        "                'long',\n",
        "                'long',\n",
        "                'long',\n",
        "                'long',\n",
        "                'long',\n",
        "                'full',\n",
        "                'full',\n",
        "                'full',\n",
        "                'd MMM YYY', \n",
        "                'd MMMM YYY',\n",
        "                'd MMMM YYY',\n",
        "                'd MMMM YYY',\n",
        "                'd MMMM YYY',\n",
        "                'd MMMM YYY',\n",
        "                'dd/MM/YYY',\n",
        "                'EE d, MMM YYY',\n",
        "                'EEEE d, MMMM YYY',\n",
        "                'd of MMMM YYY']"
      ],
      "execution_count": 4,
      "outputs": []
    },
    {
      "cell_type": "code",
      "metadata": {
        "id": "ZahO-eDtJsVL",
        "colab": {
          "base_uri": "https://localhost:8080/"
        },
        "outputId": "867d417a-536a-4611-ed47-8c09aafe7e24"
      },
      "source": [
        "print('Sample dates for each format\\n')\n",
        "\n",
        "for format in DATE_FORMATS:\n",
        "    print('%s => %s' %(format, format_date(fake.date_object(), format=format, locale='en')))"
      ],
      "execution_count": 5,
      "outputs": [
        {
          "output_type": "stream",
          "text": [
            "Sample dates for each format\n",
            "\n",
            "short => 2/18/15\n",
            "medium => Dec 27, 1979\n",
            "medium => Jan 3, 1980\n",
            "medium => May 19, 2016\n",
            "long => August 12, 1977\n",
            "long => September 15, 2013\n",
            "long => May 2, 2007\n",
            "long => January 1, 1989\n",
            "long => March 23, 2016\n",
            "full => Wednesday, December 28, 1994\n",
            "full => Saturday, June 29, 2019\n",
            "full => Friday, July 30, 1982\n",
            "d MMM YYY => 25 May 2003\n",
            "d MMMM YYY => 1 May 2002\n",
            "d MMMM YYY => 21 October 2008\n",
            "d MMMM YYY => 5 January 1993\n",
            "d MMMM YYY => 12 September 1983\n",
            "d MMMM YYY => 24 March 2012\n",
            "dd/MM/YYY => 22/10/2012\n",
            "EE d, MMM YYY => Wed 28, May 1980\n",
            "EEEE d, MMMM YYY => Wednesday 23, March 2016\n",
            "d of MMMM YYY => 8 of June 2020\n"
          ],
          "name": "stdout"
        }
      ]
    },
    {
      "cell_type": "code",
      "metadata": {
        "id": "fHGn9aMMLMya"
      },
      "source": [
        "def clean_date(raw_date):\n",
        "  return raw_date.lower().replace(',', '')"
      ],
      "execution_count": 6,
      "outputs": []
    },
    {
      "cell_type": "code",
      "metadata": {
        "id": "HRRiWcNMJ5af"
      },
      "source": [
        "def random_date():\n",
        "    dt = fake.date_object()\n",
        "\n",
        "    try:\n",
        "        date = format_date(dt, format=random.choice(DATE_FORMATS), locale='en')\n",
        "        human_readable = clean_date(date)\n",
        "        machine_readable = dt.isoformat()\n",
        "\n",
        "    except AttributeError as e:\n",
        "        return None, None, None\n",
        "\n",
        "    return human_readable, machine_readable, dt"
      ],
      "execution_count": 7,
      "outputs": []
    },
    {
      "cell_type": "code",
      "metadata": {
        "id": "Vj4XnwwIJ68B"
      },
      "source": [
        "def create_dataset(m):\n",
        "    dataset = []\n",
        "    \n",
        "    for i in tqdm(range(m)):\n",
        "        h, m, _ = random_date()\n",
        "        if h is not None:\n",
        "            dataset.append((h, m))\n",
        " \n",
        "    return dataset"
      ],
      "execution_count": 8,
      "outputs": []
    },
    {
      "cell_type": "code",
      "metadata": {
        "id": "kGI9WRYPJ_Sh",
        "outputId": "a89c0313-dec3-4536-a5f7-c3d1c56970f6",
        "colab": {
          "base_uri": "https://localhost:8080/",
          "height": 66,
          "referenced_widgets": [
            "20ee14361164432ea21a79839905fc98",
            "70f7687cefe347e3b7083ff1012105e7",
            "c76713bb6c8749378fd914f9b96a15ca",
            "d84df44a3a3b409c95f0dbe2c7d098d7",
            "219696233d454b66becbb353f4a7c625",
            "20d62636049348cba87c0d7bae4d65ff",
            "072737a5bb094404a022da6d46a00e4e",
            "816ec03379644fcb9c99b132ab17df37"
          ]
        }
      },
      "source": [
        "m = 500000\n",
        "\n",
        "dataset = create_dataset(m)"
      ],
      "execution_count": 9,
      "outputs": [
        {
          "output_type": "display_data",
          "data": {
            "application/vnd.jupyter.widget-view+json": {
              "model_id": "20ee14361164432ea21a79839905fc98",
              "version_minor": 0,
              "version_major": 2
            },
            "text/plain": [
              "HBox(children=(FloatProgress(value=0.0, max=500000.0), HTML(value='')))"
            ]
          },
          "metadata": {
            "tags": []
          }
        },
        {
          "output_type": "stream",
          "text": [
            "\n"
          ],
          "name": "stdout"
        }
      ]
    },
    {
      "cell_type": "code",
      "metadata": {
        "id": "ItddFyKVKtp2",
        "colab": {
          "base_uri": "https://localhost:8080/"
        },
        "outputId": "e5ca24c8-e17e-49c0-e7de-0a01297a1821"
      },
      "source": [
        "dataset[:5]"
      ],
      "execution_count": 10,
      "outputs": [
        {
          "output_type": "execute_result",
          "data": {
            "text/plain": [
              "[('feb 22 2016', '2016-02-22'),\n",
              " ('may 18 1973', '1973-05-18'),\n",
              " ('6 may 2005', '2005-05-06'),\n",
              " ('feb 9 2010', '2010-02-09'),\n",
              " ('april 4 1978', '1978-04-04')]"
            ]
          },
          "metadata": {
            "tags": []
          },
          "execution_count": 10
        }
      ]
    },
    {
      "cell_type": "code",
      "metadata": {
        "id": "MGnXzjL4gzeG"
      },
      "source": [
        "human_tokenizer = Tokenizer(char_level=True, oov_token='<oov>')\n",
        "machine_tokenizer = Tokenizer(char_level=True)\n",
        "\n",
        "human_tokenizer.fit_on_texts([i[0] for i in dataset])\n",
        "machine_tokenizer.fit_on_texts([i[1] for i in dataset])"
      ],
      "execution_count": 11,
      "outputs": []
    },
    {
      "cell_type": "code",
      "metadata": {
        "id": "9v91hnwcg3LG",
        "outputId": "0afb74b7-86a8-43c2-8df9-aa9b5c542b0c",
        "colab": {
          "base_uri": "https://localhost:8080/"
        }
      },
      "source": [
        "print(human_tokenizer.word_index)"
      ],
      "execution_count": 12,
      "outputs": [
        {
          "output_type": "stream",
          "text": [
            "{'<oov>': 1, ' ': 2, '1': 3, '9': 4, '2': 5, '0': 6, 'e': 7, 'a': 8, 'r': 9, 'u': 10, 'y': 11, '8': 12, '7': 13, 'm': 14, 'n': 15, 'b': 16, 'o': 17, 'd': 18, 't': 19, 's': 20, '3': 21, 'j': 22, 'c': 23, '6': 24, '5': 25, '4': 26, '/': 27, 'p': 28, 'f': 29, 'l': 30, 'h': 31, 'i': 32, 'g': 33, 'v': 34, 'w': 35}\n"
          ],
          "name": "stdout"
        }
      ]
    },
    {
      "cell_type": "code",
      "metadata": {
        "id": "-QTLFddQg6Dp",
        "outputId": "70c26ec8-5845-4fb6-f053-3820a74654af",
        "colab": {
          "base_uri": "https://localhost:8080/"
        }
      },
      "source": [
        "max_len = max([len(i[0].replace(',', '')) for i in dataset]) + 1\n",
        "max_len"
      ],
      "execution_count": 13,
      "outputs": [
        {
          "output_type": "execute_result",
          "data": {
            "text/plain": [
              "28"
            ]
          },
          "metadata": {
            "tags": []
          },
          "execution_count": 13
        }
      ]
    },
    {
      "cell_type": "code",
      "metadata": {
        "id": "6iAKzNVohBBe"
      },
      "source": [
        "def preprocess_input(date, tokenizer, max_len):\n",
        "  seq = [i[0] for i in tokenizer.texts_to_sequences(date.lower().replace(',', ''))]\n",
        "  seq = pad_sequences([seq], padding='post', maxlen=max_len)[0]\n",
        "  return to_categorical(seq, num_classes=len(tokenizer.word_index)+1)"
      ],
      "execution_count": 14,
      "outputs": []
    },
    {
      "cell_type": "code",
      "metadata": {
        "id": "ifEBXIgyhLMU"
      },
      "source": [
        "X, y = zip(*dataset)\n",
        "\n",
        "X_ohe = np.array(list(map(lambda x: preprocess_input(x, human_tokenizer, max_len), X)))\n",
        "y_ohe = np.array(list(map(lambda x: preprocess_input(x, machine_tokenizer, 10), y)))"
      ],
      "execution_count": 15,
      "outputs": []
    },
    {
      "cell_type": "code",
      "metadata": {
        "id": "B9LaipaYhM-n",
        "outputId": "58437909-9153-4322-c69e-fc66cec9dcab",
        "colab": {
          "base_uri": "https://localhost:8080/"
        }
      },
      "source": [
        "print(X_ohe.shape)\n",
        "print(y_ohe.shape)"
      ],
      "execution_count": 16,
      "outputs": [
        {
          "output_type": "stream",
          "text": [
            "(500000, 28, 36)\n",
            "(500000, 10, 12)\n"
          ],
          "name": "stdout"
        }
      ]
    },
    {
      "cell_type": "code",
      "metadata": {
        "id": "eSSmKaSQh0dD"
      },
      "source": [
        "X_train, X_test, y_train, y_test = train_test_split(X_ohe, y_ohe, test_size=0.3, random_state=0)"
      ],
      "execution_count": 17,
      "outputs": []
    },
    {
      "cell_type": "code",
      "metadata": {
        "id": "CYCWB11Git5r",
        "outputId": "f09ae077-d349-4dd2-843f-acb4528b6587",
        "colab": {
          "base_uri": "https://localhost:8080/"
        }
      },
      "source": [
        "print(f'Train data shape: {X_train.shape}, {y_train.shape}')\n",
        "print(f'Test data shape: {X_test.shape}, {y_test.shape}')"
      ],
      "execution_count": 18,
      "outputs": [
        {
          "output_type": "stream",
          "text": [
            "Train data shape: (350000, 28, 36), (350000, 10, 12)\n",
            "Test data shape: (150000, 28, 36), (150000, 10, 12)\n"
          ],
          "name": "stdout"
        }
      ]
    }
  ]
}