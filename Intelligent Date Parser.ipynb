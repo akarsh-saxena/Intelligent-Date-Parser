{
  "nbformat": 4,
  "nbformat_minor": 0,
  "metadata": {
    "colab": {
      "name": "Intelligent Date Parser.ipynb",
      "provenance": []
    },
    "kernelspec": {
      "name": "python3",
      "display_name": "Python 3"
    }
  },
  "cells": [
    {
      "cell_type": "code",
      "metadata": {
        "id": "9Lt59L5kHt0S"
      },
      "source": [
        "import re\n",
        "import random\n",
        "from faker import Faker\n",
        "from tqdm.auto import tqdm\n",
        "from babel.dates import format_date"
      ],
      "execution_count": 1,
      "outputs": []
    },
    {
      "cell_type": "code",
      "metadata": {
        "id": "MFQflYjzJi3n"
      },
      "source": [
        "fake = Faker()"
      ],
      "execution_count": 2,
      "outputs": []
    },
    {
      "cell_type": "code",
      "metadata": {
        "id": "0CAuOLNjJlSV"
      },
      "source": [
        "DATE_FORMATS = ['short',\n",
        "                'medium',\n",
        "                'medium',\n",
        "                'medium',\n",
        "                'long',\n",
        "                'long',\n",
        "                'long',\n",
        "                'long',\n",
        "                'long',\n",
        "                'full',\n",
        "                'full',\n",
        "                'full',\n",
        "                'd MMM YYY', \n",
        "                'd MMMM YYY',\n",
        "                'd MMMM YYY',\n",
        "                'd MMMM YYY',\n",
        "                'd MMMM YYY',\n",
        "                'd MMMM YYY',\n",
        "                'dd/MM/YYY',\n",
        "                'EE d, MMM YYY',\n",
        "                'EEEE d, MMMM YYY',\n",
        "                'd of MMMM YYY']"
      ],
      "execution_count": 3,
      "outputs": []
    },
    {
      "cell_type": "code",
      "metadata": {
        "id": "ZahO-eDtJsVL",
        "outputId": "6a267605-9384-46d3-e380-26fdc2936d38",
        "colab": {
          "base_uri": "https://localhost:8080/"
        }
      },
      "source": [
        "print('Sample dates for each format\\n')\n",
        "\n",
        "for format in DATE_FORMATS:\n",
        "    print('%s => %s' %(format, format_date(fake.date_object(), format=format, locale='en')))"
      ],
      "execution_count": 4,
      "outputs": [
        {
          "output_type": "stream",
          "text": [
            "Sample dates for each format\n",
            "\n",
            "short => 9/30/00\n",
            "medium => May 6, 2015\n",
            "medium => Oct 10, 2003\n",
            "medium => Aug 18, 2014\n",
            "long => November 3, 1981\n",
            "long => January 28, 1992\n",
            "long => January 27, 2019\n",
            "long => March 4, 2003\n",
            "long => November 15, 1986\n",
            "full => Friday, October 4, 1974\n",
            "full => Friday, February 3, 2006\n",
            "full => Thursday, January 27, 2000\n",
            "d MMM YYY => 20 Feb 2019\n",
            "d MMMM YYY => 10 May 1996\n",
            "d MMMM YYY => 13 April 1983\n",
            "d MMMM YYY => 5 July 2006\n",
            "d MMMM YYY => 20 December 2007\n",
            "d MMMM YYY => 26 November 2001\n",
            "dd/MM/YYY => 23/04/2014\n",
            "EE d, MMM YYY => Sun 11, Aug 1991\n",
            "EEEE d, MMMM YYY => Saturday 26, April 2008\n",
            "d of MMMM YYY => 15 of January 1972\n"
          ],
          "name": "stdout"
        }
      ]
    },
    {
      "cell_type": "code",
      "metadata": {
        "id": "fHGn9aMMLMya"
      },
      "source": [
        "def clean_date(raw_date):\n",
        "  return raw_date.lower().replace(',', '')"
      ],
      "execution_count": 5,
      "outputs": []
    },
    {
      "cell_type": "code",
      "metadata": {
        "id": "HRRiWcNMJ5af"
      },
      "source": [
        "def random_date():\n",
        "    dt = fake.date_object()\n",
        "\n",
        "    try:\n",
        "        date = format_date(dt, format=random.choice(DATE_FORMATS), locale='en')\n",
        "        human_readable = clean_date(date)\n",
        "        machine_readable = dt.isoformat()\n",
        "\n",
        "    except AttributeError as e:\n",
        "        return None, None, None\n",
        "\n",
        "    return human_readable, machine_readable, dt"
      ],
      "execution_count": 6,
      "outputs": []
    },
    {
      "cell_type": "code",
      "metadata": {
        "id": "Vj4XnwwIJ68B"
      },
      "source": [
        "def create_dataset(m):\n",
        "    dataset = []\n",
        "    \n",
        "    for i in tqdm(range(m)):\n",
        "        h, m, _ = random_date()\n",
        "        if h is not None:\n",
        "            dataset.append((h, m))\n",
        " \n",
        "    return dataset"
      ],
      "execution_count": 7,
      "outputs": []
    },
    {
      "cell_type": "code",
      "metadata": {
        "id": "kGI9WRYPJ_Sh"
      },
      "source": [
        "m = 500000\n",
        "\n",
        "dataset = create_dataset(m)"
      ],
      "execution_count": null,
      "outputs": []
    },
    {
      "cell_type": "code",
      "metadata": {
        "id": "ItddFyKVKtp2",
        "outputId": "e03c3122-b06a-4193-f35f-0a883e175d95",
        "colab": {
          "base_uri": "https://localhost:8080/"
        }
      },
      "source": [
        "dataset[:5]"
      ],
      "execution_count": 9,
      "outputs": [
        {
          "output_type": "execute_result",
          "data": {
            "text/plain": [
              "[('15 may 2013', '2013-05-15'),\n",
              " ('24 december 1991', '1991-12-24'),\n",
              " ('dec 25 1979', '1979-12-25'),\n",
              " ('19 april 2010', '2010-04-19'),\n",
              " ('1 february 1974', '1974-02-01')]"
            ]
          },
          "metadata": {
            "tags": []
          },
          "execution_count": 9
        }
      ]
    }
  ]
}